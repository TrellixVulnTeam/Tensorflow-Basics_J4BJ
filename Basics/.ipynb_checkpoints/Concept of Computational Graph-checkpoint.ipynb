{
 "cells": [
  {
   "cell_type": "markdown",
   "metadata": {},
   "source": [
    "## Visualize the computation using Tensorboard, simple example"
   ]
  },
  {
   "cell_type": "code",
   "execution_count": 1,
   "metadata": {},
   "outputs": [],
   "source": [
    "import tensorflow as tf"
   ]
  },
  {
   "cell_type": "code",
   "execution_count": 3,
   "metadata": {},
   "outputs": [],
   "source": [
    "# Define Placeholders in Tensorflow\n",
    "X = tf.placeholder(tf.float32, name='X')\n",
    "Y = tf.placeholder(tf.float32, name = 'Y')"
   ]
  },
  {
   "cell_type": "code",
   "execution_count": 5,
   "metadata": {},
   "outputs": [],
   "source": [
    "Multiply = tf.multiply(X,Y)"
   ]
  },
  {
   "cell_type": "markdown",
   "metadata": {},
   "source": [
    "    Now we are creating the session under which we have to run Multiply defined above\n",
    "    Note: We have defined X and Y as place holders unlike constant, so we have provide or assign some value to do the math, :) Let's go"
   ]
  },
  {
   "cell_type": "code",
   "execution_count": 8,
   "metadata": {},
   "outputs": [
    {
     "name": "stdout",
     "output_type": "stream",
     "text": [
      "[ 120.   84.   88.    8.]\n"
     ]
    }
   ],
   "source": [
    "with tf.Session() as sess:\n",
    "    result_mul = sess.run(Multiply, feed_dict={X:[10,21,4,2], Y:[12,4,22,4]})\n",
    "    # Here it gets interesting, we have to add a new line to create a file which document the whole event.\n",
    "    #I have chosen this directory, you can choose any\n",
    "    event = tf.summary.FileWriter(\"logs/multiply-num\", sess.graph)\n",
    "    print(result_mul)\n",
    "    "
   ]
  },
  {
   "cell_type": "markdown",
   "metadata": {},
   "source": [
    "## Checkout the file at the destination with Tensorboard command, you can run terminal directly from Jupyter Notebook."
   ]
  },
  {
   "cell_type": "code",
   "execution_count": null,
   "metadata": {},
   "outputs": [
    {
     "name": "stdout",
     "output_type": "stream",
     "text": [
      "TensorBoard 0.1.5 at http://Tanays-MacBook-Air.local:6006 (Press CTRL+C to quit) "
     ]
    }
   ],
   "source": [
    "!Tensorboard --logdir=logs"
   ]
  },
  {
   "cell_type": "markdown",
   "metadata": {},
   "source": [
    "## The above is the command to run this file, just go to the url, you will see the tensorboard with your computational graph. In case you are wondering, from where did local:6006 came from, as you might know, tensorflow is from Google, so it's basically indicates the ticker of Google, that is: GOOG---> 6006"
   ]
  },
  {
   "cell_type": "code",
   "execution_count": null,
   "metadata": {},
   "outputs": [],
   "source": []
  }
 ],
 "metadata": {
  "kernelspec": {
   "display_name": "Python 3",
   "language": "python",
   "name": "python3"
  },
  "language_info": {
   "codemirror_mode": {
    "name": "ipython",
    "version": 3
   },
   "file_extension": ".py",
   "mimetype": "text/x-python",
   "name": "python",
   "nbconvert_exporter": "python",
   "pygments_lexer": "ipython3",
   "version": "3.6.4"
  }
 },
 "nbformat": 4,
 "nbformat_minor": 2
}
