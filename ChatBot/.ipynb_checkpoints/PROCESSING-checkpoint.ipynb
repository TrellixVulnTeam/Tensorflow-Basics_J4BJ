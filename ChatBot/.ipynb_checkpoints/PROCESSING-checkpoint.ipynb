{
 "cells": [
  {
   "cell_type": "code",
   "execution_count": 2,
   "metadata": {},
   "outputs": [],
   "source": [
    "import pandas as pd\n",
    "import numpy as np\n",
    "from nltk import word_tokenize\n",
    "from nltk import WordNetLemmatizer\n",
    "import pickle"
   ]
  },
  {
   "cell_type": "code",
   "execution_count": 3,
   "metadata": {},
   "outputs": [],
   "source": [
    "lemmatizer = WordNetLemmatizer()"
   ]
  },
  {
   "cell_type": "code",
   "execution_count": 4,
   "metadata": {},
   "outputs": [],
   "source": [
    "# Loading Data from json that was created after wrangling\n",
    "X, Y = pd.read_json('data.json')['INPUTS'],pd.read_json('data.json')['TARGET']"
   ]
  },
  {
   "cell_type": "code",
   "execution_count": 5,
   "metadata": {},
   "outputs": [],
   "source": [
    "with open('lexicon.txt','rb') as fl:\n",
    "    lexicon = pickle.load(fl)"
   ]
  },
  {
   "cell_type": "code",
   "execution_count": 6,
   "metadata": {},
   "outputs": [
    {
     "data": {
      "text/plain": [
       "3239"
      ]
     },
     "execution_count": 6,
     "metadata": {},
     "output_type": "execute_result"
    }
   ],
   "source": [
    "len(lexicon)"
   ]
  },
  {
   "cell_type": "code",
   "execution_count": null,
   "metadata": {},
   "outputs": [],
   "source": [
    "feature_set = []\n",
    "\n",
    "\n",
    "for line1, line2 in zip(X,Y):\n",
    "    sample_words1 = word_tokenize(line1)\n",
    "    sample_words1 = [lemmatizer.lemmatize(i) for i in sample_words1]\n",
    "    sample_words2 = word_tokenize(line2)\n",
    "    sample_words2 = [lemmatizer.lemmatize(i) for i in sample_words2]\n",
    "    features = np.zeros(len(lexicon))\n",
    "    classification = np.zeros(len(lexicon))\n",
    "    for word in sample_words1:\n",
    "        if word in lexicon:\n",
    "            idx = lexicon.index(word)\n",
    "            features[idx]+=1\n",
    "    for word in sample_words2:\n",
    "        if word in lexicon:\n",
    "            idx = lexicon.index(word)\n",
    "            classification[idx] +=1\n",
    "    features1 = list(features)\n",
    "    classification1 = list(classification)\n",
    "    feature_set.append([features1, classification1])\n",
    "\n",
    "with open('feature_set.txt','wb') as fd:\n",
    "    pickle.dump(feature_set,fd)"
   ]
  },
  {
   "cell_type": "code",
   "execution_count": null,
   "metadata": {},
   "outputs": [],
   "source": [
    "len(classification1)"
   ]
  },
  {
   "cell_type": "code",
   "execution_count": null,
   "metadata": {},
   "outputs": [],
   "source": [
    "with open('feature_set.txt','wb') as fd:\n",
    "    pickle.dump(feature_set,fd)"
   ]
  },
  {
   "cell_type": "code",
   "execution_count": null,
   "metadata": {},
   "outputs": [],
   "source": []
  }
 ],
 "metadata": {
  "kernelspec": {
   "display_name": "Python 3",
   "language": "python",
   "name": "python3"
  },
  "language_info": {
   "codemirror_mode": {
    "name": "ipython",
    "version": 3
   },
   "file_extension": ".py",
   "mimetype": "text/x-python",
   "name": "python",
   "nbconvert_exporter": "python",
   "pygments_lexer": "ipython3",
   "version": "3.6.4"
  }
 },
 "nbformat": 4,
 "nbformat_minor": 2
}
