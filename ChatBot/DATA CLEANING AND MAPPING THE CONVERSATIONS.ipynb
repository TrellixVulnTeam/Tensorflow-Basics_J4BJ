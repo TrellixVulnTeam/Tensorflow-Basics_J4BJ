{
 "cells": [
  {
   "cell_type": "code",
   "execution_count": 1,
   "metadata": {},
   "outputs": [],
   "source": [
    "import pandas as pd\n",
    "from collections import Counter"
   ]
  },
  {
   "cell_type": "code",
   "execution_count": 2,
   "metadata": {},
   "outputs": [],
   "source": [
    "with open('cornell movie-dialogs corpus/movie_lines.txt','rb') as f:\n",
    "    movie_lines = f.readlines()"
   ]
  },
  {
   "cell_type": "code",
   "execution_count": 3,
   "metadata": {},
   "outputs": [],
   "source": [
    "from nltk import WordNetLemmatizer\n",
    "from nltk import word_tokenize"
   ]
  },
  {
   "cell_type": "code",
   "execution_count": 4,
   "metadata": {},
   "outputs": [],
   "source": [
    "lemmatizer = WordNetLemmatizer()"
   ]
  },
  {
   "cell_type": "code",
   "execution_count": 5,
   "metadata": {},
   "outputs": [],
   "source": [
    "lineID = []\n",
    "characterID = []\n",
    "movieID = []\n",
    "char_name = []\n",
    "text = []\n",
    "for x in range(0,len(movie_lines)):\n",
    "    try:\n",
    "        lineID.append(movie_lines[x].decode().split('\\n')[0].split(' +++$+++ ')[0])\n",
    "        characterID.append(movie_lines[x].decode().split('\\n')[0].split(' +++$+++ ')[1])\n",
    "        movieID.append(movie_lines[x].decode().split('\\n')[0].split(' +++$+++ ')[2])\n",
    "        char_name.append(movie_lines[x].decode().split('\\n')[0].split(' +++$+++ ')[3])\n",
    "        text.append(movie_lines[x].decode().split('\\n')[0].split(' +++$+++ ')[4])\n",
    "    except:\n",
    "        pass"
   ]
  },
  {
   "cell_type": "code",
   "execution_count": 6,
   "metadata": {},
   "outputs": [],
   "source": [
    "movie_lines = pd.DataFrame()\n",
    "movie_lines['lineID']  = lineID\n",
    "movie_lines['characterID'] = characterID\n",
    "movie_lines['movieID'] = movieID\n",
    "movie_lines['char_name'] = char_name\n",
    "movie_lines['text'] = text"
   ]
  },
  {
   "cell_type": "code",
   "execution_count": 7,
   "metadata": {},
   "outputs": [
    {
     "data": {
      "text/html": [
       "<div>\n",
       "<style>\n",
       "    .dataframe thead tr:only-child th {\n",
       "        text-align: right;\n",
       "    }\n",
       "\n",
       "    .dataframe thead th {\n",
       "        text-align: left;\n",
       "    }\n",
       "\n",
       "    .dataframe tbody tr th {\n",
       "        vertical-align: top;\n",
       "    }\n",
       "</style>\n",
       "<table border=\"1\" class=\"dataframe\">\n",
       "  <thead>\n",
       "    <tr style=\"text-align: right;\">\n",
       "      <th></th>\n",
       "      <th>lineID</th>\n",
       "      <th>characterID</th>\n",
       "      <th>movieID</th>\n",
       "      <th>char_name</th>\n",
       "      <th>text</th>\n",
       "    </tr>\n",
       "  </thead>\n",
       "  <tbody>\n",
       "    <tr>\n",
       "      <th>0</th>\n",
       "      <td>L1045</td>\n",
       "      <td>u0</td>\n",
       "      <td>m0</td>\n",
       "      <td>BIANCA</td>\n",
       "      <td>They do not!</td>\n",
       "    </tr>\n",
       "    <tr>\n",
       "      <th>1</th>\n",
       "      <td>L1044</td>\n",
       "      <td>u2</td>\n",
       "      <td>m0</td>\n",
       "      <td>CAMERON</td>\n",
       "      <td>They do to!</td>\n",
       "    </tr>\n",
       "    <tr>\n",
       "      <th>2</th>\n",
       "      <td>L985</td>\n",
       "      <td>u0</td>\n",
       "      <td>m0</td>\n",
       "      <td>BIANCA</td>\n",
       "      <td>I hope so.</td>\n",
       "    </tr>\n",
       "    <tr>\n",
       "      <th>3</th>\n",
       "      <td>L984</td>\n",
       "      <td>u2</td>\n",
       "      <td>m0</td>\n",
       "      <td>CAMERON</td>\n",
       "      <td>She okay?</td>\n",
       "    </tr>\n",
       "    <tr>\n",
       "      <th>4</th>\n",
       "      <td>L925</td>\n",
       "      <td>u0</td>\n",
       "      <td>m0</td>\n",
       "      <td>BIANCA</td>\n",
       "      <td>Let's go.</td>\n",
       "    </tr>\n",
       "  </tbody>\n",
       "</table>\n",
       "</div>"
      ],
      "text/plain": [
       "  lineID characterID movieID char_name          text\n",
       "0  L1045          u0      m0    BIANCA  They do not!\n",
       "1  L1044          u2      m0   CAMERON   They do to!\n",
       "2   L985          u0      m0    BIANCA    I hope so.\n",
       "3   L984          u2      m0   CAMERON     She okay?\n",
       "4   L925          u0      m0    BIANCA     Let's go."
      ]
     },
     "execution_count": 7,
     "metadata": {},
     "output_type": "execute_result"
    }
   ],
   "source": [
    "movie_lines.head()"
   ]
  },
  {
   "cell_type": "code",
   "execution_count": 8,
   "metadata": {},
   "outputs": [
    {
     "data": {
      "text/plain": [
       "str"
      ]
     },
     "execution_count": 8,
     "metadata": {},
     "output_type": "execute_result"
    }
   ],
   "source": [
    "type(movie_lines.lineID[0])"
   ]
  },
  {
   "cell_type": "code",
   "execution_count": 9,
   "metadata": {},
   "outputs": [],
   "source": [
    "with open('cornell movie-dialogs corpus/movie_conversations.txt','rb') as f:\n",
    "    movie_conv = f.readlines()"
   ]
  },
  {
   "cell_type": "code",
   "execution_count": 10,
   "metadata": {},
   "outputs": [],
   "source": [
    "characterID1 = []\n",
    "characterID2 = []\n",
    "movieID = []\n",
    "list_utterances = []\n",
    "for x in range(len(movie_conv)):\n",
    "    try:\n",
    "        characterID1.append(movie_conv[x].decode().split('\\n')[0].split(' +++$+++ ')[0])\n",
    "        characterID2.append(movie_conv[x].decode().split('\\n')[0].split(' +++$+++ ')[1])\n",
    "        movieID.append(movie_conv[x].decode().split('\\n')[0].split(' +++$+++ ')[2])\n",
    "        list_utterances.append(movie_conv[x].decode().split('\\n')[0].split(' +++$+++ ')[3])\n",
    "    except:\n",
    "        pass"
   ]
  },
  {
   "cell_type": "code",
   "execution_count": 11,
   "metadata": {},
   "outputs": [],
   "source": [
    "movie_conv = pd.DataFrame()\n",
    "movie_conv['characterID1'] = characterID1\n",
    "movie_conv['characterID2'] = characterID2\n",
    "movie_conv['movieID'] = movieID\n",
    "movie_conv['list_utterances'] = list_utterances"
   ]
  },
  {
   "cell_type": "code",
   "execution_count": 12,
   "metadata": {},
   "outputs": [
    {
     "data": {
      "text/plain": [
       "83097"
      ]
     },
     "execution_count": 12,
     "metadata": {},
     "output_type": "execute_result"
    }
   ],
   "source": [
    "len(movie_conv)"
   ]
  },
  {
   "cell_type": "code",
   "execution_count": 13,
   "metadata": {},
   "outputs": [
    {
     "data": {
      "text/plain": [
       "301979"
      ]
     },
     "execution_count": 13,
     "metadata": {},
     "output_type": "execute_result"
    }
   ],
   "source": [
    "len(movie_lines)"
   ]
  },
  {
   "cell_type": "code",
   "execution_count": 14,
   "metadata": {},
   "outputs": [
    {
     "data": {
      "text/plain": [
       "\"['L194', 'L195', 'L196', 'L197']\""
      ]
     },
     "execution_count": 14,
     "metadata": {},
     "output_type": "execute_result"
    }
   ],
   "source": [
    "movie_conv.list_utterances[0]"
   ]
  },
  {
   "cell_type": "code",
   "execution_count": 15,
   "metadata": {},
   "outputs": [],
   "source": [
    "movie_lines['number'] = movie_lines['lineID'].apply(lambda x: int(x[1:]))\n",
    "movie_lines['char'] = movie_lines['lineID'].apply(lambda x: str(x[0]))"
   ]
  },
  {
   "cell_type": "code",
   "execution_count": 16,
   "metadata": {},
   "outputs": [
    {
     "data": {
      "text/html": [
       "<div>\n",
       "<style>\n",
       "    .dataframe thead tr:only-child th {\n",
       "        text-align: right;\n",
       "    }\n",
       "\n",
       "    .dataframe thead th {\n",
       "        text-align: left;\n",
       "    }\n",
       "\n",
       "    .dataframe tbody tr th {\n",
       "        vertical-align: top;\n",
       "    }\n",
       "</style>\n",
       "<table border=\"1\" class=\"dataframe\">\n",
       "  <thead>\n",
       "    <tr style=\"text-align: right;\">\n",
       "      <th></th>\n",
       "      <th>lineID</th>\n",
       "      <th>characterID</th>\n",
       "      <th>movieID</th>\n",
       "      <th>char_name</th>\n",
       "      <th>text</th>\n",
       "      <th>number</th>\n",
       "      <th>char</th>\n",
       "    </tr>\n",
       "  </thead>\n",
       "  <tbody>\n",
       "    <tr>\n",
       "      <th>0</th>\n",
       "      <td>L1045</td>\n",
       "      <td>u0</td>\n",
       "      <td>m0</td>\n",
       "      <td>BIANCA</td>\n",
       "      <td>They do not!</td>\n",
       "      <td>1045</td>\n",
       "      <td>L</td>\n",
       "    </tr>\n",
       "    <tr>\n",
       "      <th>1</th>\n",
       "      <td>L1044</td>\n",
       "      <td>u2</td>\n",
       "      <td>m0</td>\n",
       "      <td>CAMERON</td>\n",
       "      <td>They do to!</td>\n",
       "      <td>1044</td>\n",
       "      <td>L</td>\n",
       "    </tr>\n",
       "    <tr>\n",
       "      <th>2</th>\n",
       "      <td>L985</td>\n",
       "      <td>u0</td>\n",
       "      <td>m0</td>\n",
       "      <td>BIANCA</td>\n",
       "      <td>I hope so.</td>\n",
       "      <td>985</td>\n",
       "      <td>L</td>\n",
       "    </tr>\n",
       "    <tr>\n",
       "      <th>3</th>\n",
       "      <td>L984</td>\n",
       "      <td>u2</td>\n",
       "      <td>m0</td>\n",
       "      <td>CAMERON</td>\n",
       "      <td>She okay?</td>\n",
       "      <td>984</td>\n",
       "      <td>L</td>\n",
       "    </tr>\n",
       "    <tr>\n",
       "      <th>4</th>\n",
       "      <td>L925</td>\n",
       "      <td>u0</td>\n",
       "      <td>m0</td>\n",
       "      <td>BIANCA</td>\n",
       "      <td>Let's go.</td>\n",
       "      <td>925</td>\n",
       "      <td>L</td>\n",
       "    </tr>\n",
       "  </tbody>\n",
       "</table>\n",
       "</div>"
      ],
      "text/plain": [
       "  lineID characterID movieID char_name          text  number char\n",
       "0  L1045          u0      m0    BIANCA  They do not!    1045    L\n",
       "1  L1044          u2      m0   CAMERON   They do to!    1044    L\n",
       "2   L985          u0      m0    BIANCA    I hope so.     985    L\n",
       "3   L984          u2      m0   CAMERON     She okay?     984    L\n",
       "4   L925          u0      m0    BIANCA     Let's go.     925    L"
      ]
     },
     "execution_count": 16,
     "metadata": {},
     "output_type": "execute_result"
    }
   ],
   "source": [
    "movie_lines.head()"
   ]
  },
  {
   "cell_type": "code",
   "execution_count": 17,
   "metadata": {},
   "outputs": [],
   "source": [
    "movie_lines = movie_lines.sort_values('number')"
   ]
  },
  {
   "cell_type": "code",
   "execution_count": 18,
   "metadata": {},
   "outputs": [],
   "source": [
    "movie_lines['text_lem'] = movie_lines['text'].apply(lambda x: lemmatizer.lemmatize(x))"
   ]
  },
  {
   "cell_type": "code",
   "execution_count": 19,
   "metadata": {},
   "outputs": [],
   "source": [
    "movie_lines['text_lem' ]=  movie_lines['text_lem'].apply(lambda x: x.lower())"
   ]
  },
  {
   "cell_type": "code",
   "execution_count": 20,
   "metadata": {},
   "outputs": [
    {
     "data": {
      "text/html": [
       "<div>\n",
       "<style>\n",
       "    .dataframe thead tr:only-child th {\n",
       "        text-align: right;\n",
       "    }\n",
       "\n",
       "    .dataframe thead th {\n",
       "        text-align: left;\n",
       "    }\n",
       "\n",
       "    .dataframe tbody tr th {\n",
       "        vertical-align: top;\n",
       "    }\n",
       "</style>\n",
       "<table border=\"1\" class=\"dataframe\">\n",
       "  <thead>\n",
       "    <tr style=\"text-align: right;\">\n",
       "      <th></th>\n",
       "      <th>lineID</th>\n",
       "      <th>characterID</th>\n",
       "      <th>movieID</th>\n",
       "      <th>char_name</th>\n",
       "      <th>text</th>\n",
       "      <th>number</th>\n",
       "      <th>char</th>\n",
       "      <th>text_lem</th>\n",
       "    </tr>\n",
       "  </thead>\n",
       "  <tbody>\n",
       "    <tr>\n",
       "      <th>86</th>\n",
       "      <td>L49</td>\n",
       "      <td>u0</td>\n",
       "      <td>m0</td>\n",
       "      <td>BIANCA</td>\n",
       "      <td>Did you change your hair?</td>\n",
       "      <td>49</td>\n",
       "      <td>L</td>\n",
       "      <td>did you change your hair?</td>\n",
       "    </tr>\n",
       "    <tr>\n",
       "      <th>85</th>\n",
       "      <td>L50</td>\n",
       "      <td>u3</td>\n",
       "      <td>m0</td>\n",
       "      <td>CHASTITY</td>\n",
       "      <td>No.</td>\n",
       "      <td>50</td>\n",
       "      <td>L</td>\n",
       "      <td>no.</td>\n",
       "    </tr>\n",
       "    <tr>\n",
       "      <th>84</th>\n",
       "      <td>L51</td>\n",
       "      <td>u0</td>\n",
       "      <td>m0</td>\n",
       "      <td>BIANCA</td>\n",
       "      <td>You might wanna think about it</td>\n",
       "      <td>51</td>\n",
       "      <td>L</td>\n",
       "      <td>you might wanna think about it</td>\n",
       "    </tr>\n",
       "    <tr>\n",
       "      <th>648</th>\n",
       "      <td>L59</td>\n",
       "      <td>u9</td>\n",
       "      <td>m0</td>\n",
       "      <td>PATRICK</td>\n",
       "      <td>I missed you.</td>\n",
       "      <td>59</td>\n",
       "      <td>L</td>\n",
       "      <td>i missed you.</td>\n",
       "    </tr>\n",
       "    <tr>\n",
       "      <th>647</th>\n",
       "      <td>L60</td>\n",
       "      <td>u8</td>\n",
       "      <td>m0</td>\n",
       "      <td>MISS PERKY</td>\n",
       "      <td>It says here you exposed yourself to a group o...</td>\n",
       "      <td>60</td>\n",
       "      <td>L</td>\n",
       "      <td>it says here you exposed yourself to a group o...</td>\n",
       "    </tr>\n",
       "  </tbody>\n",
       "</table>\n",
       "</div>"
      ],
      "text/plain": [
       "    lineID characterID movieID   char_name  \\\n",
       "86     L49          u0      m0      BIANCA   \n",
       "85     L50          u3      m0    CHASTITY   \n",
       "84     L51          u0      m0      BIANCA   \n",
       "648    L59          u9      m0     PATRICK   \n",
       "647    L60          u8      m0  MISS PERKY   \n",
       "\n",
       "                                                  text  number char  \\\n",
       "86                           Did you change your hair?      49    L   \n",
       "85                                                 No.      50    L   \n",
       "84                      You might wanna think about it      51    L   \n",
       "648                                      I missed you.      59    L   \n",
       "647  It says here you exposed yourself to a group o...      60    L   \n",
       "\n",
       "                                              text_lem  \n",
       "86                           did you change your hair?  \n",
       "85                                                 no.  \n",
       "84                      you might wanna think about it  \n",
       "648                                      i missed you.  \n",
       "647  it says here you exposed yourself to a group o...  "
      ]
     },
     "execution_count": 20,
     "metadata": {},
     "output_type": "execute_result"
    }
   ],
   "source": [
    "movie_lines.head()"
   ]
  },
  {
   "cell_type": "code",
   "execution_count": 21,
   "metadata": {},
   "outputs": [],
   "source": [
    "def clean(x):\n",
    "    x = x.lower()\n",
    "    x = x.replace('.','tanay2711').replace('!', 'tanay2711').replace(',','tanay2711').replace('-','tanay2711')\n",
    "    x = x.replace('tanay2711','')\n",
    "    return x"
   ]
  },
  {
   "cell_type": "code",
   "execution_count": 22,
   "metadata": {},
   "outputs": [],
   "source": [
    "movie_lines['text_lem'] = movie_lines['text_lem'].apply(lambda x : clean(x))"
   ]
  },
  {
   "cell_type": "code",
   "execution_count": 23,
   "metadata": {},
   "outputs": [
    {
     "data": {
      "text/html": [
       "<div>\n",
       "<style>\n",
       "    .dataframe thead tr:only-child th {\n",
       "        text-align: right;\n",
       "    }\n",
       "\n",
       "    .dataframe thead th {\n",
       "        text-align: left;\n",
       "    }\n",
       "\n",
       "    .dataframe tbody tr th {\n",
       "        vertical-align: top;\n",
       "    }\n",
       "</style>\n",
       "<table border=\"1\" class=\"dataframe\">\n",
       "  <thead>\n",
       "    <tr style=\"text-align: right;\">\n",
       "      <th></th>\n",
       "      <th>lineID</th>\n",
       "      <th>characterID</th>\n",
       "      <th>movieID</th>\n",
       "      <th>char_name</th>\n",
       "      <th>text</th>\n",
       "      <th>number</th>\n",
       "      <th>char</th>\n",
       "      <th>text_lem</th>\n",
       "    </tr>\n",
       "  </thead>\n",
       "  <tbody>\n",
       "    <tr>\n",
       "      <th>86</th>\n",
       "      <td>L49</td>\n",
       "      <td>u0</td>\n",
       "      <td>m0</td>\n",
       "      <td>BIANCA</td>\n",
       "      <td>Did you change your hair?</td>\n",
       "      <td>49</td>\n",
       "      <td>L</td>\n",
       "      <td>did you change your hair?</td>\n",
       "    </tr>\n",
       "    <tr>\n",
       "      <th>85</th>\n",
       "      <td>L50</td>\n",
       "      <td>u3</td>\n",
       "      <td>m0</td>\n",
       "      <td>CHASTITY</td>\n",
       "      <td>No.</td>\n",
       "      <td>50</td>\n",
       "      <td>L</td>\n",
       "      <td>no</td>\n",
       "    </tr>\n",
       "    <tr>\n",
       "      <th>84</th>\n",
       "      <td>L51</td>\n",
       "      <td>u0</td>\n",
       "      <td>m0</td>\n",
       "      <td>BIANCA</td>\n",
       "      <td>You might wanna think about it</td>\n",
       "      <td>51</td>\n",
       "      <td>L</td>\n",
       "      <td>you might wanna think about it</td>\n",
       "    </tr>\n",
       "    <tr>\n",
       "      <th>648</th>\n",
       "      <td>L59</td>\n",
       "      <td>u9</td>\n",
       "      <td>m0</td>\n",
       "      <td>PATRICK</td>\n",
       "      <td>I missed you.</td>\n",
       "      <td>59</td>\n",
       "      <td>L</td>\n",
       "      <td>i missed you</td>\n",
       "    </tr>\n",
       "    <tr>\n",
       "      <th>647</th>\n",
       "      <td>L60</td>\n",
       "      <td>u8</td>\n",
       "      <td>m0</td>\n",
       "      <td>MISS PERKY</td>\n",
       "      <td>It says here you exposed yourself to a group o...</td>\n",
       "      <td>60</td>\n",
       "      <td>L</td>\n",
       "      <td>it says here you exposed yourself to a group o...</td>\n",
       "    </tr>\n",
       "  </tbody>\n",
       "</table>\n",
       "</div>"
      ],
      "text/plain": [
       "    lineID characterID movieID   char_name  \\\n",
       "86     L49          u0      m0      BIANCA   \n",
       "85     L50          u3      m0    CHASTITY   \n",
       "84     L51          u0      m0      BIANCA   \n",
       "648    L59          u9      m0     PATRICK   \n",
       "647    L60          u8      m0  MISS PERKY   \n",
       "\n",
       "                                                  text  number char  \\\n",
       "86                           Did you change your hair?      49    L   \n",
       "85                                                 No.      50    L   \n",
       "84                      You might wanna think about it      51    L   \n",
       "648                                      I missed you.      59    L   \n",
       "647  It says here you exposed yourself to a group o...      60    L   \n",
       "\n",
       "                                              text_lem  \n",
       "86                           did you change your hair?  \n",
       "85                                                  no  \n",
       "84                      you might wanna think about it  \n",
       "648                                       i missed you  \n",
       "647  it says here you exposed yourself to a group o...  "
      ]
     },
     "execution_count": 23,
     "metadata": {},
     "output_type": "execute_result"
    }
   ],
   "source": [
    "movie_lines.head()"
   ]
  },
  {
   "cell_type": "code",
   "execution_count": 24,
   "metadata": {},
   "outputs": [],
   "source": [
    "def lexicon(column_name):\n",
    "    lexicon = []\n",
    "    for line in movie_lines[column_name]:\n",
    "        all_words = word_tokenize(line)\n",
    "        lexicon +=list(all_words)\n",
    "    lexicon = [lemmatizer.lemmatize(n) for n in lexicon]\n",
    "    count_words = Counter(lexicon)\n",
    "    lexicon_final = []\n",
    "    for word in count_words:\n",
    "        lexicon_final.append(word)\n",
    "    return lexicon_final"
   ]
  },
  {
   "cell_type": "code",
   "execution_count": 25,
   "metadata": {},
   "outputs": [],
   "source": [
    "lexicon = lexicon('text_lem')"
   ]
  },
  {
   "cell_type": "code",
   "execution_count": 26,
   "metadata": {},
   "outputs": [
    {
     "data": {
      "text/plain": [
       "55847"
      ]
     },
     "execution_count": 26,
     "metadata": {},
     "output_type": "execute_result"
    }
   ],
   "source": [
    "len(lexicon)"
   ]
  },
  {
   "cell_type": "code",
   "execution_count": 27,
   "metadata": {},
   "outputs": [],
   "source": [
    "import pickle\n",
    "with open('lexicon1.txt','wb') as fd:\n",
    "    pickle.dump(lexicon,fd)"
   ]
  },
  {
   "cell_type": "code",
   "execution_count": null,
   "metadata": {},
   "outputs": [],
   "source": [
    "def target_text(df, columns):\n",
    "    #tempdf = pd.DataFrame()\n",
    "    for movieid in movie_lines.movieID.unique():\n",
    "        tempdf = movie_lines[movie_lines.movieID == movieid]\n",
    "        target"
   ]
  },
  {
   "cell_type": "code",
   "execution_count": 120,
   "metadata": {},
   "outputs": [
    {
     "data": {
      "text/plain": [
       "61540"
      ]
     },
     "execution_count": 120,
     "metadata": {},
     "output_type": "execute_result"
    }
   ],
   "source": [
    "len(count_words)"
   ]
  },
  {
   "cell_type": "code",
   "execution_count": 137,
   "metadata": {},
   "outputs": [],
   "source": [
    "import ast"
   ]
  },
  {
   "cell_type": "code",
   "execution_count": null,
   "metadata": {},
   "outputs": [],
   "source": [
    "mapping_conv = {}\n",
    "\n",
    "for x in movie_conv.list_utterances:\n",
    "    \n",
    "    i = 0\n",
    "    x = ast.literal_eval(x)\n",
    "    print(x[1])\n",
    "    \n",
    "    while i < len(x):\n",
    "        try:\n",
    "            mapping_conv[x[i]] = x[i+1]\n",
    "            i+=1\n",
    "        except:\n",
    "            break\n",
    "        #print(i)"
   ]
  },
  {
   "cell_type": "code",
   "execution_count": 150,
   "metadata": {},
   "outputs": [],
   "source": [
    "input_value = list(mapping_conv.keys())"
   ]
  },
  {
   "cell_type": "code",
   "execution_count": 151,
   "metadata": {},
   "outputs": [],
   "source": [
    "target_line = list(mapping_conv.values())"
   ]
  },
  {
   "cell_type": "code",
   "execution_count": null,
   "metadata": {},
   "outputs": [],
   "source": [
    "input_text = []\n",
    "for lineids in input_value:\n",
    "    #print(lineids)\n",
    "    input_text.append(movie_lines[movie_lines.lineID==lineids]['text_lem'])"
   ]
  },
  {
   "cell_type": "code",
   "execution_count": 155,
   "metadata": {},
   "outputs": [],
   "source": [
    "DF = pd.DataFrame()\n",
    "DF['INPUTS'] = input_text\n",
    "try:\n",
    "    DF.to_json('input.json')\n",
    "except:\n",
    "    DF.to_csv('input.csv')"
   ]
  },
  {
   "cell_type": "code",
   "execution_count": 156,
   "metadata": {},
   "outputs": [],
   "source": [
    "target_text = []\n",
    "for lineids in target_lineline:\n",
    "    target_text.append(movie_lines[movie_lines.lineID==lineids]['text_lem'])\n",
    "DF['TARGET'] = target_text\n",
    "try:\n",
    "    DF.to_json('data.json')\n",
    "except:\n",
    "    DF.to_csv('data.csv')"
   ]
  },
  {
   "cell_type": "code",
   "execution_count": 162,
   "metadata": {},
   "outputs": [
    {
     "data": {
      "text/plain": [
       "'can we make this quick?  roxanne korrine and andrew barrett are having an incredibly horrendous public break- up on the quad  again'"
      ]
     },
     "execution_count": 162,
     "metadata": {},
     "output_type": "execute_result"
    }
   ],
   "source": [
    "DF.INPUTS[0][68]"
   ]
  },
  {
   "cell_type": "code",
   "execution_count": 182,
   "metadata": {},
   "outputs": [
    {
     "data": {
      "text/plain": [
       "'welcome to the hotel earle may i help you sir?'"
      ]
     },
     "execution_count": 182,
     "metadata": {},
     "output_type": "execute_result"
    }
   ],
   "source": [
    "movie_lines[movie_lines.lineID == 'L65280']['text_lem'].iloc[0]"
   ]
  },
  {
   "cell_type": "code",
   "execution_count": 239,
   "metadata": {},
   "outputs": [],
   "source": [
    "def rem(x):\n",
    "    try:\n",
    "        return x.iloc[0]\n",
    "    except:\n",
    "        return 'tanay2711'"
   ]
  },
  {
   "cell_type": "code",
   "execution_count": 240,
   "metadata": {},
   "outputs": [],
   "source": [
    "DF['inputs'] = DF['INPUTS'].apply(lambda x:rem(x))"
   ]
  },
  {
   "cell_type": "code",
   "execution_count": 247,
   "metadata": {},
   "outputs": [],
   "source": [
    "DF['TARGET'] = DF.TARGET.apply(lambda x:rem(x))"
   ]
  },
  {
   "cell_type": "code",
   "execution_count": 246,
   "metadata": {},
   "outputs": [],
   "source": [
    "DF.INPUTS = DF.inputs"
   ]
  },
  {
   "cell_type": "code",
   "execution_count": 265,
   "metadata": {},
   "outputs": [],
   "source": [
    "DF.drop(DF[DF['TARGET']=='tanay2711'].index, axis = 0, inplace=True)"
   ]
  },
  {
   "cell_type": "code",
   "execution_count": 251,
   "metadata": {},
   "outputs": [],
   "source": [
    "del DF['inputs']"
   ]
  },
  {
   "cell_type": "code",
   "execution_count": 266,
   "metadata": {},
   "outputs": [],
   "source": [
    "DF.reset_index(inplace=True)"
   ]
  },
  {
   "cell_type": "code",
   "execution_count": 271,
   "metadata": {},
   "outputs": [],
   "source": [
    "DF['INPUTS'] = DF['INPUTS'].apply(lambda x: clean(x))\n",
    "DF['TARGET'] = DF['TARGET'].apply(lambda x: clean(x))"
   ]
  },
  {
   "cell_type": "code",
   "execution_count": 274,
   "metadata": {},
   "outputs": [],
   "source": [
    "del DF['index']"
   ]
  },
  {
   "cell_type": "code",
   "execution_count": 275,
   "metadata": {},
   "outputs": [],
   "source": [
    "del DF['level_0']"
   ]
  },
  {
   "cell_type": "code",
   "execution_count": 276,
   "metadata": {},
   "outputs": [
    {
     "data": {
      "text/html": [
       "<div>\n",
       "<style>\n",
       "    .dataframe thead tr:only-child th {\n",
       "        text-align: right;\n",
       "    }\n",
       "\n",
       "    .dataframe thead th {\n",
       "        text-align: left;\n",
       "    }\n",
       "\n",
       "    .dataframe tbody tr th {\n",
       "        vertical-align: top;\n",
       "    }\n",
       "</style>\n",
       "<table border=\"1\" class=\"dataframe\">\n",
       "  <thead>\n",
       "    <tr style=\"text-align: right;\">\n",
       "      <th></th>\n",
       "      <th>INPUTS</th>\n",
       "      <th>TARGET</th>\n",
       "    </tr>\n",
       "  </thead>\n",
       "  <tbody>\n",
       "    <tr>\n",
       "      <th>0</th>\n",
       "      <td>can we make this quick?  roxanne korrine and a...</td>\n",
       "      <td>well i thought we'd start with pronunciation i...</td>\n",
       "    </tr>\n",
       "    <tr>\n",
       "      <th>1</th>\n",
       "      <td>well i thought we'd start with pronunciation i...</td>\n",
       "      <td>not the hacking and gagging and spitting part ...</td>\n",
       "    </tr>\n",
       "    <tr>\n",
       "      <th>2</th>\n",
       "      <td>not the hacking and gagging and spitting part ...</td>\n",
       "      <td>okay then how 'bout we try out some french cui...</td>\n",
       "    </tr>\n",
       "    <tr>\n",
       "      <th>3</th>\n",
       "      <td>you're asking me out  that's so cute what's yo...</td>\n",
       "      <td>forget it</td>\n",
       "    </tr>\n",
       "    <tr>\n",
       "      <th>4</th>\n",
       "      <td>no no it's my fault  we didn't have a proper i...</td>\n",
       "      <td>cameron</td>\n",
       "    </tr>\n",
       "  </tbody>\n",
       "</table>\n",
       "</div>"
      ],
      "text/plain": [
       "                                              INPUTS  \\\n",
       "0  can we make this quick?  roxanne korrine and a...   \n",
       "1  well i thought we'd start with pronunciation i...   \n",
       "2  not the hacking and gagging and spitting part ...   \n",
       "3  you're asking me out  that's so cute what's yo...   \n",
       "4  no no it's my fault  we didn't have a proper i...   \n",
       "\n",
       "                                              TARGET  \n",
       "0  well i thought we'd start with pronunciation i...  \n",
       "1  not the hacking and gagging and spitting part ...  \n",
       "2  okay then how 'bout we try out some french cui...  \n",
       "3                                          forget it  \n",
       "4                                            cameron  "
      ]
     },
     "execution_count": 276,
     "metadata": {},
     "output_type": "execute_result"
    }
   ],
   "source": [
    "DF.head()"
   ]
  },
  {
   "cell_type": "code",
   "execution_count": 277,
   "metadata": {},
   "outputs": [],
   "source": [
    "DF.to_json('data.json')"
   ]
  }
 ],
 "metadata": {
  "kernelspec": {
   "display_name": "Python 3",
   "language": "python",
   "name": "python3"
  },
  "language_info": {
   "codemirror_mode": {
    "name": "ipython",
    "version": 3
   },
   "file_extension": ".py",
   "mimetype": "text/x-python",
   "name": "python",
   "nbconvert_exporter": "python",
   "pygments_lexer": "ipython3",
   "version": "3.6.4"
  }
 },
 "nbformat": 4,
 "nbformat_minor": 2
}
