{
 "cells": [
  {
   "cell_type": "code",
   "execution_count": 1,
   "metadata": {},
   "outputs": [
    {
     "name": "stderr",
     "output_type": "stream",
     "text": [
      "/Users/tanaykarmarkar/anaconda/lib/python3.6/site-packages/h5py/__init__.py:36: FutureWarning: Conversion of the second argument of issubdtype from `float` to `np.floating` is deprecated. In future, it will be treated as `np.float64 == np.dtype(float).type`.\n",
      "  from ._conv import register_converters as _register_converters\n"
     ]
    }
   ],
   "source": [
    "import tensorflow as tf\n",
    "import pandas as pd\n",
    "from sklearn.model_selection import train_test_split\n",
    "import numpy as np"
   ]
  },
  {
   "cell_type": "code",
   "execution_count": 34,
   "metadata": {},
   "outputs": [],
   "source": [
    "from PROCESSING import create_labels"
   ]
  },
  {
   "cell_type": "code",
   "execution_count": 35,
   "metadata": {},
   "outputs": [],
   "source": [
    "fetures, classes = create_labels('data.json')"
   ]
  },
  {
   "cell_type": "code",
   "execution_count": 39,
   "metadata": {},
   "outputs": [],
   "source": [
    "test_size = 0.1\n",
    "total_test = int(test_size*len(fetures))\n",
    "train_x = fetures[:-total_test]\n",
    "test_x = fetures[total_test:]\n",
    "train_y = classes[:-total_test]\n",
    "test_y = classes[total_test:]"
   ]
  },
  {
   "cell_type": "code",
   "execution_count": 14,
   "metadata": {},
   "outputs": [],
   "source": [
    "nodes_hidden_layer_1 = 500\n",
    "nodes_hidden_layer_2 = 600\n",
    "nodes_hidden_layer_3 = 700\n",
    "nodes_hidden_layer_4 = 100"
   ]
  },
  {
   "cell_type": "code",
   "execution_count": 48,
   "metadata": {},
   "outputs": [],
   "source": [
    "num_classes = len(classes[0])\n",
    "batch_size = 100"
   ]
  },
  {
   "cell_type": "code",
   "execution_count": 45,
   "metadata": {},
   "outputs": [],
   "source": [
    "X = tf.placeholder('float',[None,len(train_x[0])])\n",
    "Y = tf.placeholder('float')"
   ]
  },
  {
   "cell_type": "code",
   "execution_count": 46,
   "metadata": {},
   "outputs": [],
   "source": [
    "def neural_net(Dataset_input):\n",
    "    \n",
    "    hidden_layer_1 = {'weights':tf.Variable(tf.random_normal([len(train_x[0]), nodes_hidden_layer_1]))\n",
    "                     , 'bias':tf.Variable(tf.random_normal([nodes_hidden_layer_1]))}\n",
    "    \n",
    "    hidden_layer_2 = {'weights':tf.Variable(tf.random_normal([nodes_hidden_layer_1, nodes_hidden_layer_2]))\n",
    "                     , 'bias':tf.Variable(tf.random_normal([nodes_hidden_layer_2]))}\n",
    "    \n",
    "    hidden_layer_3 = {'weights':tf.Variable(tf.random_normal([nodes_hidden_layer_2, nodes_hidden_layer_3]))\n",
    "                     , 'bias':tf.Variable(tf.random_normal([nodes_hidden_layer_3]))}\n",
    "    \n",
    "    hidden_layer_4 = {'weights':tf.Variable(tf.random_normal([nodes_hidden_layer_3, nodes_hidden_layer_4]))\n",
    "                     , 'bias':tf.Variable(tf.random_normal([nodes_hidden_layer_4]))}\n",
    "    \n",
    "    output_layer = {'weights':tf.Variable(tf.random_normal([nodes_hidden_layer_4, num_classes]))\n",
    "                     , 'bias':tf.Variable(tf.random_normal([num_classes]))}\n",
    "    \n",
    "    '''Defining Computation'''\n",
    "    \n",
    "    layer_1 = tf.add(tf.matmul(X,hidden_layer_1['weights']), hidden_layer_1['bias'])\n",
    "    #Applying activation function\n",
    "    layer_1 = tf.nn.relu(layer_1)\n",
    "    \n",
    "    layer_2 = tf.add(tf.matmul(layer_1,hidden_layer_2['weights']), hidden_layer_2['bias'])\n",
    "    layer_2 = tf.nn.relu(layer_2)\n",
    "    \n",
    "    layer_3 = tf.add(tf.matmul(layer_2,hidden_layer_3['weights']), hidden_layer_3['bias'])\n",
    "    layer_3 = tf.nn.relu(layer_3)\n",
    "    \n",
    "    layer_4 = tf.add(tf.matmul(layer_3,hidden_layer_4['weights']), hidden_layer_4['bias'])\n",
    "    layer_4 = tf.nn.relu(layer_4)\n",
    "    \n",
    "    output = tf.add(tf.matmul(layer_4,output_layer['weights']), output_layer['bias'])\n",
    "    print('neural ok!')\n",
    "    return output"
   ]
  },
  {
   "cell_type": "code",
   "execution_count": 54,
   "metadata": {},
   "outputs": [],
   "source": [
    "def train(X):\n",
    "    \n",
    "    pred = neural_net(X)\n",
    "    \n",
    "    cost_function = tf.reduce_mean(tf.nn.softmax_cross_entropy_with_logits(logits = pred,labels=Y))\n",
    "    '''Mininmizing cost function'''\n",
    "    # Using Gradient Descent\n",
    "    optimizer = tf.train.AdamOptimizer().minimize(cost_function)\n",
    "    \n",
    "    \n",
    "    Num_Epochs = 6\n",
    "    \n",
    "    with tf.Session() as sess:\n",
    "        sess.run(tf.global_variables_initializer()) # All it does is initialize the variables, weights and bias what we need to initialize\n",
    "        \n",
    "        for epoch in range(Num_Epochs):\n",
    "            loss = 0\n",
    "            \n",
    "            i = 0\n",
    "            while i<len(train_x):\n",
    "                start = i\n",
    "                end = i+len(train_x[0])\n",
    "                \n",
    "                batch_x = np.array(train_x[start:end])\n",
    "                batch_y = np.array(train_y[start:end])\n",
    "                n, c = sess.run([optimizer, cost_function], feed_dict ={X:batch_x,Y:batch_y})\n",
    "                loss +=c #adding cost \n",
    "                i+=batch_size\n",
    "            print('Epoch ', epoch, 'out of ', Num_Epochs, 'loss: ', loss)\n",
    "        summary = tf.summary.FileWriter('log/sentiment-analysis',sess.graph)\n",
    "        # tf.argmax ---> returns index of the maximum value, below line is just verifying that we are getting no more than 1 as output because it is one hot encoded\n",
    "        check = tf.equal(tf.argmax(pred,1), tf.argmax(Y,1))\n",
    "        # tf.cast just changes to the dtype\n",
    "        accuracy = tf.reduce_mean(tf.cast(check, tf.float32))\n",
    "        print('Accuracy: ', accuracy.eval({X:test_x, Y:test_y}))"
   ]
  },
  {
   "cell_type": "code",
   "execution_count": 2,
   "metadata": {},
   "outputs": [],
   "source": [
    "data = pd.read_json('data.json')"
   ]
  },
  {
   "cell_type": "code",
   "execution_count": 4,
   "metadata": {},
   "outputs": [],
   "source": [
    "data.reset_index(inplace=True)"
   ]
  },
  {
   "cell_type": "code",
   "execution_count": 6,
   "metadata": {},
   "outputs": [],
   "source": [
    "del data['index']"
   ]
  },
  {
   "cell_type": "code",
   "execution_count": 14,
   "metadata": {},
   "outputs": [],
   "source": [
    "data['INPUTS'].to_csv('trainfrom.txt', index=False,header=None)"
   ]
  },
  {
   "cell_type": "code",
   "execution_count": 16,
   "metadata": {},
   "outputs": [],
   "source": [
    "test_size = int(0.2*len(data))\n",
    "train_x = data.INPUTS.iloc[:-test_size]\n",
    "train_y = data.TARGET.iloc[:-test_size]\n",
    "test_x = data.INPUTS.iloc[-test_size:]\n",
    "test_y = data.TARGET.iloc[-test_size:]"
   ]
  },
  {
   "cell_type": "code",
   "execution_count": 18,
   "metadata": {},
   "outputs": [],
   "source": [
    "with open('train.from', 'a', encoding='utf-8') as f:\n",
    "    for content in train_x.values:\n",
    "        f.write(content+'\\n')"
   ]
  },
  {
   "cell_type": "code",
   "execution_count": 19,
   "metadata": {},
   "outputs": [],
   "source": [
    "with open('train.to', 'a', encoding='utf-8') as f:\n",
    "    for content in train_y.values:\n",
    "        f.write(content+'\\n')"
   ]
  },
  {
   "cell_type": "code",
   "execution_count": 20,
   "metadata": {},
   "outputs": [],
   "source": [
    "with open('test.from', 'a', encoding='utf-8') as f:\n",
    "    for content in test_x.values:\n",
    "        f.write(content+'\\n')"
   ]
  },
  {
   "cell_type": "code",
   "execution_count": 21,
   "metadata": {},
   "outputs": [],
   "source": [
    "with open('test.to', 'a', encoding='utf-8') as f:\n",
    "    for content in test_y.values:\n",
    "        f.write(content+'\\n')"
   ]
  },
  {
   "cell_type": "code",
   "execution_count": null,
   "metadata": {},
   "outputs": [],
   "source": []
  }
 ],
 "metadata": {
  "kernelspec": {
   "display_name": "Python 3",
   "language": "python",
   "name": "python3"
  },
  "language_info": {
   "codemirror_mode": {
    "name": "ipython",
    "version": 3
   },
   "file_extension": ".py",
   "mimetype": "text/x-python",
   "name": "python",
   "nbconvert_exporter": "python",
   "pygments_lexer": "ipython3",
   "version": "3.6.4"
  }
 },
 "nbformat": 4,
 "nbformat_minor": 2
}
